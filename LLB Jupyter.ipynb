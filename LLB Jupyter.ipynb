{
 "cells": [
  {
   "cell_type": "code",
   "execution_count": null,
   "metadata": {},
   "outputs": [],
   "source": [
    "import selenium\n",
    "from selenium import webdriver\n",
    "from selenium.webdriver.common.by import By\n",
    "from selenium.webdriver.support.ui import WebDriverWait\n",
    "from selenium.webdriver.support import expected_conditions as EC\n",
    "import time\n",
    "import pandas as pd\n",
    "from selenium.common.exceptions import NoSuchElementException"
   ]
  },
  {
   "cell_type": "code",
   "execution_count": null,
   "metadata": {},
   "outputs": [],
   "source": [
    "def check_exists_by_xpath(xpath):\n",
    "    try:\n",
    "        driver.find_element_by_xpath(xpath)\n",
    "    except NoSuchElementException:\n",
    "        return False\n",
    "    return True"
   ]
  },
  {
   "cell_type": "code",
   "execution_count": null,
   "metadata": {},
   "outputs": [],
   "source": [
    "driver = webdriver.Firefox(executable_path=\"C:\\\\Python38\\\\geckodriver.exe\")\n",
    "driver.get(\"https://www.ilsos.gov/corporatellc/CorporateLlcController\")"
   ]
  },
  {
   "cell_type": "code",
   "execution_count": null,
   "metadata": {},
   "outputs": [],
   "source": [
    "alphabets = ['0', '1', '2', '3', '4', '5', '6', '7', '8', '9', 'a', 'b', 'c', 'd', 'e', 'f', 'g', 'h', 'i', 'j', 'k', 'l', 'm', 'n', 'o', 'p', 'q', 'r', 's', 't', 'u', 'v', 'w', 'x', 'y', 'z']\n",
    "nums= ['0', '1', '2', '3', '4', '5', '6', '7', '8', '9']\n",
    "#\"200\" is not done \n",
    "\n",
    "searchKeys = []\n",
    "temp = \"\"\n",
    "\n",
    "for a in nums:\n",
    "    for b in alphabets:\n",
    "        for c in alphabets:\n",
    "            temp = a + b + c\n",
    "            if temp>=\"408\":\n",
    "                searchKeys.append(temp)"
   ]
  },
  {
   "cell_type": "code",
   "execution_count": null,
   "metadata": {},
   "outputs": [],
   "source": [
    "alphabets = ['0', '1', '2', '3', '4', '5', '6', '7', '8', '9', 'a', 'b', 'c', 'd', 'e', 'f', 'g', 'h', 'i', 'j', 'k', 'l', 'm', 'n', 'o', 'p', 'q', 'r', 's', 't', 'u', 'v', 'w', 'x', 'y', 'z']\n",
    "nums= ['0', '1', '2', '3', '4', '5', '6', '7', '8', '9']\n",
    "#\"200\" is not done \n",
    "\n",
    "searchKeys = []\n",
    "temp = \"\"\n",
    "\n",
    "for a in nums:\n",
    "    for b in alphabets:\n",
    "        for c in alphabets:\n",
    "            for d in alphabets:\n",
    "                temp = a + b + c +d\n",
    "                if temp>=\"360b\":\n",
    "                    searchKeys.append(temp)"
   ]
  },
  {
   "cell_type": "code",
   "execution_count": null,
   "metadata": {},
   "outputs": [],
   "source": [
    "data = {'FileNumber': [],\n",
    "    'BusinessName': [],\n",
    "    'Address': [],\n",
    "    'Date': [],\n",
    "    'AgentName': [],\n",
    "    'AgentAddress': []\n",
    "    }\n",
    "\n",
    "df = pd.DataFrame(data)"
   ]
  },
  {
   "cell_type": "code",
   "execution_count": null,
   "metadata": {},
   "outputs": [],
   "source": [
    "for searchKey in searchKeys:\n",
    "    try:\n",
    "        searchBar = WebDriverWait(driver, 10).until(\n",
    "            EC.presence_of_element_located((By.XPATH, \"//*[@class='form-control' and @maxlength='30']\"))\n",
    "        )\n",
    "        searchBar.send_keys(searchKey)\n",
    "        submitBtn = driver.find_element_by_xpath(\"//*[@name='next'][@type='submit']\")\n",
    "        submitBtn.click()\n",
    "\n",
    "    except Exception as e:\n",
    "        print(e)\n",
    "\n",
    "    while True:\n",
    "        list1 = []\n",
    "        \n",
    "        if check_exists_by_xpath(\"//*[@class = 'black10b']\"):\n",
    "            break\n",
    "#         time.sleep(0.5)\n",
    "\n",
    "        try:\n",
    "            searchBar = WebDriverWait(driver, 10).until(\n",
    "                EC.presence_of_element_located((By.XPATH, \"//*[@class = 'table table-striped table-hover']\"))\n",
    "            )\n",
    "            \n",
    "            mytable = driver.find_element_by_xpath(\"//*[@class = 'table table-striped table-hover']\")\n",
    "\n",
    "        except Exception as e:\n",
    "            print(e)\n",
    "        for row in mytable.find_elements_by_css_selector(\"tr\"):\n",
    "            for data in row.find_elements_by_css_selector(\"td\"):\n",
    "                links = data.find_elements_by_css_selector(\"a\")\n",
    "                if links!=[]:\n",
    "                    list1.append(links[0].text)\n",
    "\n",
    "        for l in list1:\n",
    "            print(l)\n",
    "            try:\n",
    "                link = driver.find_element_by_xpath(\"//*[contains(text(), \\\"\"+l+\"\\\")]\")\n",
    "                link.click()\n",
    "                record = WebDriverWait(driver, 10).until(\n",
    "                    EC.presence_of_element_located((By.XPATH, \"//*[@class=\\\"col-sm-8 col-md-10\\\"]\"))\n",
    "                )\n",
    "                basicinfo = driver.find_elements_by_xpath(\"//*[@class = \\\"col-sm-8 col-md-10\\\"]\")\n",
    "                FileNumber = basicinfo[3].text\n",
    "                BusinessName = basicinfo[4].text\n",
    "                einfo = driver.find_elements_by_xpath(\"//*[@class = \\\"col-sm-9\\\"]\")\n",
    "                address = str(einfo[12].text).replace(\"\\n\", \", \")\n",
    "                date = einfo[15].text\n",
    "                agent_name = einfo[18].text\n",
    "                agent_address = str(einfo[19].text).replace(\"\\n\", \", \")\n",
    "                row = {'FileNumber': FileNumber, 'BusinessName': BusinessName, 'Address': address, 'Date': date, 'AgentName': agent_name, 'AgentAddress': agent_address}\n",
    "                df = df.append(row, ignore_index=True)\n",
    "                driver.back()\n",
    "\n",
    "            except Exception as e:\n",
    "                print(e)\n",
    "#         time.sleep(0.5)\n",
    "\n",
    "        if check_exists_by_xpath(\"//*[@class = \\\"btn btn-default\\\" and @value='More' and @name='command']\"):\n",
    "            more = driver.find_element_by_xpath(\"//*[@class = \\\"btn btn-default\\\" and @value='More' and @name='command']\")\n",
    "            more.click()\n",
    "        else:\n",
    "            break\n",
    "            \n",
    "    driver.get(\"https://www.ilsos.gov/corporatellc/CorporateLlcController\")\n",
    "    a = driver.find_elements_by_name(\"type\")\n",
    "    a[2].click()\n",
    "    submitBtn = driver.find_element_by_id(\"subCon\")\n",
    "    submitBtn.click()\n",
    "    lastkey = searchKey"
   ]
  },
  {
   "cell_type": "code",
   "execution_count": null,
   "metadata": {},
   "outputs": [],
   "source": [
    "df.to_csv(\"dfNUM.csv\")"
   ]
  }
 ],
 "metadata": {
  "kernelspec": {
   "display_name": "Python 3",
   "language": "python",
   "name": "python3"
  },
  "language_info": {
   "codemirror_mode": {
    "name": "ipython",
    "version": 3
   },
   "file_extension": ".py",
   "mimetype": "text/x-python",
   "name": "python",
   "nbconvert_exporter": "python",
   "pygments_lexer": "ipython3",
   "version": "3.8.1"
  }
 },
 "nbformat": 4,
 "nbformat_minor": 4
}
